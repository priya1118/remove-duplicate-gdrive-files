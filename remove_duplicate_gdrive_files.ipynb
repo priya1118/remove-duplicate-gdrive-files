{
  "nbformat": 4,
  "nbformat_minor": 0,
  "metadata": {
    "colab": {
      "provenance": [],
      "authorship_tag": "ABX9TyO/aXOkUPiqMquRGE/NyuDw"
    },
    "kernelspec": {
      "name": "python3",
      "display_name": "Python 3"
    },
    "language_info": {
      "name": "python"
    }
  },
  "cells": [
    {
      "cell_type": "code",
      "execution_count": null,
      "metadata": {
        "id": "afdpckMTSETf"
      },
      "outputs": [],
      "source": [
        "from google.colab import drive\n",
        "drive.mount('/content/drive')\n",
        "!ls"
      ]
    },
    {
      "cell_type": "code",
      "source": [
        "#Store all the IDs of the images in the folder in a variable\n",
        "image_ids = !ls -1 /content/drive/MyDrive/Halloween2024"
      ],
      "metadata": {
        "id": "OxgSDVoBdOuF"
      },
      "execution_count": null,
      "outputs": []
    },
    {
      "cell_type": "code",
      "source": [
        "#Store the path of the folder in a variable\n",
        "folder_path = '/content/drive/MyDrive/Halloween2024/'"
      ],
      "metadata": {
        "id": "A6GhK4LKfGJl"
      },
      "execution_count": null,
      "outputs": []
    },
    {
      "cell_type": "code",
      "source": [
        "import os\n",
        "import re\n",
        "\n",
        "#Check each ID too see if it's a duplicate. Google Drive adds (1), (2), (3)... to the file name if it's uploaded more than once\n",
        "for id in image_ids:\n",
        "  #Check if the ID contains any number within brackets. If it contains, delete the file from the drive.\n",
        "  if re.search(r'\\((\\d+)\\)',id):\n",
        "    print(folder_path+id.replace(\"'\",\"\"))\n",
        "    os.remove(folder_path+id.replace(\"'\",\"\"))\n"
      ],
      "metadata": {
        "id": "uhk-McDZehGM"
      },
      "execution_count": null,
      "outputs": []
    },
    {
      "cell_type": "code",
      "source": [
        "#Verify the count of total number of files in the folder\n",
        "!ls -1 /content/drive/MyDrive/Halloween2024 |wc -l"
      ],
      "metadata": {
        "id": "bKMJT2KPfg0D"
      },
      "execution_count": null,
      "outputs": []
    }
  ]
}